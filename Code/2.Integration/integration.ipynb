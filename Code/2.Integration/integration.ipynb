{
 "cells": [
  {
   "metadata": {},
   "cell_type": "markdown",
   "source": "# Data Integration\n",
   "id": "15138b12be06dfde"
  },
  {
   "metadata": {
    "ExecuteTime": {
     "end_time": "2024-11-27T09:44:34.180132Z",
     "start_time": "2024-11-27T09:44:33.977439Z"
    }
   },
   "cell_type": "code",
   "source": "import pandas as pd",
   "id": "57f095f05e7907c0",
   "outputs": [],
   "execution_count": 1
  },
  {
   "metadata": {},
   "cell_type": "markdown",
   "source": "### Teams",
   "id": "1b2a8de57d1841ef"
  },
  {
   "metadata": {
    "ExecuteTime": {
     "end_time": "2024-11-27T09:44:34.195192Z",
     "start_time": "2024-11-27T09:44:34.183370Z"
    }
   },
   "cell_type": "code",
   "source": [
    "teams_EA = pd.read_csv('../newData/teams_EA_cleaned.csv')\n",
    "teams_WE = pd.read_csv('../newData/teams_WE_cleaned.csv')\n",
    "\n",
    "players_teams = pd.read_csv('../newData/players_teams_cleaned.csv')\n",
    "players_cleaned = pd.read_csv('../newData/players_cleaned.csv')\n",
    "award_players = pd.read_csv('../newData/awards_players_cleaned.csv')\n",
    "award_coaches = pd.read_csv('../newData/awards_coaches_cleaned.csv')\n",
    "coaches = pd.read_csv('../newData/coaches_cleaned.csv')\n",
    "\n",
    "series_post = pd.read_csv('../newData/series_post_cleaned.csv')\n",
    "teams_post = pd.read_csv('../newData/teams_post_cleaned.csv')"
   ],
   "id": "fa55881e8975b",
   "outputs": [],
   "execution_count": 2
  },
  {
   "metadata": {
    "ExecuteTime": {
     "end_time": "2024-11-27T09:44:34.294925Z",
     "start_time": "2024-11-27T09:44:34.252272Z"
    }
   },
   "cell_type": "code",
   "source": [
    "merged_df_ea = pd.merge(teams_EA, players_teams, on=['year', 'tmID'], how='left')\n",
    "players_cleaned = players_cleaned.rename(columns={'bioID': 'playerID'})\n",
    "merged_df_ea = pd.merge(merged_df_ea, players_cleaned, on=['playerID'], how='left')\n",
    "merged_df_ea = pd.merge(merged_df_ea, award_players, on=['playerID', 'year'], how='left')\n",
    "merged_df_ea = pd.merge(merged_df_ea, coaches, on=['year', 'tmID'], how='left')\n",
    "merged_df_ea = pd.merge(merged_df_ea, award_coaches, on=['year', 'coachID'], how='left')\n",
    "\n",
    "\n",
    "merged_df_we = pd.merge(teams_WE, players_teams, on=['year', 'tmID'], how='left')\n",
    "merged_df_we = pd.merge(merged_df_we, players_cleaned, on=['playerID'], how='left')\n",
    "merged_df_we = pd.merge(merged_df_we, award_players, on=['playerID', 'year'], how='left')\n",
    "merged_df_we = pd.merge(merged_df_we, coaches, on=['year', 'tmID'], how='left')\n",
    "merged_df_we = pd.merge(merged_df_we, award_coaches, on=['year', 'coachID'], how='left')\n",
    "\n",
    "\n",
    "merged_df_ea.to_csv('../newData/teams_EA_cleaned.csv', index=False)\n",
    "merged_df_we.to_csv('../newData/teams_WE_cleaned.csv', index=False)"
   ],
   "id": "e47aed32335853e",
   "outputs": [],
   "execution_count": 3
  }
 ],
 "metadata": {
  "kernelspec": {
   "display_name": "Python 3",
   "language": "python",
   "name": "python3"
  },
  "language_info": {
   "codemirror_mode": {
    "name": "ipython",
    "version": 2
   },
   "file_extension": ".py",
   "mimetype": "text/x-python",
   "name": "python",
   "nbconvert_exporter": "python",
   "pygments_lexer": "ipython2",
   "version": "2.7.6"
  }
 },
 "nbformat": 4,
 "nbformat_minor": 5
}
