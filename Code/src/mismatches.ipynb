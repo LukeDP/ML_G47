{
 "cells": [
  {
   "metadata": {
    "ExecuteTime": {
     "end_time": "2024-11-03T13:19:10.524143Z",
     "start_time": "2024-11-03T13:19:10.519220Z"
    }
   },
   "cell_type": "code",
   "source": [
    "import pandas as pd\n",
    "import matplotlib.pyplot as plt\n",
    "import seaborn as sns\n",
    "from scipy.stats import pearsonr, kendalltau\n",
    "import numpy as np"
   ],
   "id": "d513fa3611f680fb",
   "outputs": [],
   "execution_count": 10
  },
  {
   "metadata": {
    "ExecuteTime": {
     "end_time": "2024-11-03T13:19:10.596713Z",
     "start_time": "2024-11-03T13:19:10.532422Z"
    }
   },
   "cell_type": "code",
   "source": [
    "## EAST\n",
    "\n",
    "df_teams = pd.read_csv('newDataset/teams_EA_cleaned.csv')\n",
    "df_players = pd.read_csv('newDataset/players_teams_cleaned.csv')\n",
    "\n",
    "sum_fieldGoals = df_players.groupby(['tmID', 'year'])['fgMade'].sum().reset_index()\n",
    "sum_fieldGoals.rename(columns={'fgMade': 'sum_fgMadePlayer'}, inplace=True)\n",
    "df_compare = pd.merge(df_teams, sum_fieldGoals, on=['tmID', 'year'], how='left')\n",
    "\n",
    "df_compare['diff_fieldGoals'] = df_compare['o_fgm'] - df_compare['sum_fgMadePlayer']\n",
    "mismatch = df_compare[df_compare['diff_fieldGoals'] != 0]\n",
    "all_mismatches = pd.DataFrame()\n",
    "\n",
    "df_compare.loc[df_compare['diff_fieldGoals'] != 0, 'o_fgm'] = df_compare['sum_fgMadePlayer']\n",
    "df_teams_updated = df_compare.drop(columns=['sum_fgMadePlayer', 'diff_fieldGoals'])\n",
    "df_teams_updated.to_csv('newDataset/teams_EA_cleaned.csv', index=False)\n",
    "\n",
    "if not mismatch.empty:\n",
    "    first_year = mismatch['year'].min()\n",
    "    all_mismatches = pd.DataFrame()\n",
    "    for year in range(first_year, first_year + 10):\n",
    "        mismatch_specific_year = mismatch[mismatch['year'] == year]\n",
    "        all_mismatches = pd.concat([all_mismatches, mismatch_specific_year], ignore_index=True)\n",
    "\n",
    "all_mismatches.to_csv('mismatches/allmismatch_EA_fieldGoals.csv', index=False)"
   ],
   "id": "3f534539bcca861b",
   "outputs": [],
   "execution_count": 11
  },
  {
   "metadata": {
    "ExecuteTime": {
     "end_time": "2024-11-03T13:19:10.708156Z",
     "start_time": "2024-11-03T13:19:10.633919Z"
    }
   },
   "cell_type": "code",
   "source": [
    "## EAST\n",
    "\n",
    "\n",
    "df_teams = pd.read_csv('newDataset/teams_EA_cleaned.csv')\n",
    "df_players = pd.read_csv('newDataset/players_teams_cleaned.csv')\n",
    "\n",
    "sum_freeThrows = df_players.groupby(['tmID', 'year'])['ftMade'].sum().reset_index()\n",
    "sum_freeThrows.rename(columns={'ftMade': 'sum_ftMadePlayer'}, inplace=True)\n",
    "df_compare = pd.merge(df_teams, sum_freeThrows, on=['tmID', 'year'], how='left')\n",
    "\n",
    "df_compare['diff_freeThrows'] = df_compare['o_ftm'] - df_compare['sum_ftMadePlayer']\n",
    "mismatch = df_compare[df_compare['diff_freeThrows'] != 0]\n",
    "all_mismatches = pd.DataFrame()\n",
    "\n",
    "df_compare.loc[df_compare['diff_freeThrows'] != 0, 'o_ftm'] = df_compare['sum_ftMadePlayer']\n",
    "df_teams_updated = df_compare.drop(columns=['sum_ftMadePlayer', 'diff_freeThrows'])\n",
    "df_teams_updated.to_csv('newDataset/teams_EA_cleaned.csv', index=False)\n",
    "\n",
    "if not mismatch.empty:\n",
    "    first_year = mismatch['year'].min()\n",
    "    all_mismatches = pd.DataFrame()\n",
    "    for year in range(first_year, first_year + 10):\n",
    "        mismatch_specific_year = mismatch[mismatch['year'] == year]\n",
    "        all_mismatches = pd.concat([all_mismatches, mismatch_specific_year], ignore_index=True)\n",
    "\n",
    "all_mismatches.to_csv('mismatches/allmismatch_EA_freeThrows.csv', index=False)"
   ],
   "id": "315c611e50d36818",
   "outputs": [],
   "execution_count": 12
  },
  {
   "metadata": {
    "ExecuteTime": {
     "end_time": "2024-11-03T13:19:10.800658Z",
     "start_time": "2024-11-03T13:19:10.741016Z"
    }
   },
   "cell_type": "code",
   "source": [
    "## EAST\n",
    "\n",
    "df_teams = pd.read_csv('newDataset/teams_EA_cleaned.csv')\n",
    "df_players = pd.read_csv('newDataset/players_teams_cleaned.csv')\n",
    "\n",
    "sum_freeThrows = df_players.groupby(['tmID', 'year'])['threeMade'].sum().reset_index()\n",
    "sum_freeThrows.rename(columns={'threeMade': 'sum_threeMadePlayer'}, inplace=True)\n",
    "df_compare = pd.merge(df_teams, sum_freeThrows, on=['tmID', 'year'], how='left')\n",
    "\n",
    "df_compare['diff_threePointers'] = df_compare['o_3pm'] - df_compare['sum_threeMadePlayer']\n",
    "mismatch = df_compare[df_compare['diff_threePointers'] != 0]\n",
    "all_mismatches = pd.DataFrame()\n",
    "\n",
    "df_compare.loc[df_compare['diff_threePointers'] != 0, 'o_3pm'] = df_compare['sum_threeMadePlayer']\n",
    "df_teams_updated = df_compare.drop(columns=['sum_threeMadePlayer', 'diff_threePointers'])\n",
    "df_teams_updated.to_csv('newDataset/teams_EA_cleaned.csv', index=False)\n",
    "\n",
    "if not mismatch.empty:\n",
    "    first_year = mismatch['year'].min()\n",
    "    all_mismatches = pd.DataFrame()\n",
    "    for year in range(first_year, first_year + 10):\n",
    "        mismatch_specific_year = mismatch[mismatch['year'] == year]\n",
    "        all_mismatches = pd.concat([all_mismatches, mismatch_specific_year], ignore_index=True)\n",
    "\n",
    "all_mismatches.to_csv('mismatches/allmismatch_EA_threePointers.csv', index=False)"
   ],
   "id": "11975ef1172d4f2",
   "outputs": [],
   "execution_count": 13
  },
  {
   "metadata": {
    "ExecuteTime": {
     "end_time": "2024-11-03T13:19:10.906001Z",
     "start_time": "2024-11-03T13:19:10.834895Z"
    }
   },
   "cell_type": "code",
   "source": [
    "## WEST\n",
    "\n",
    "df_teams = pd.read_csv('newDataset/teams_WE_cleaned.csv')\n",
    "df_players = pd.read_csv('newDataset/players_teams_cleaned.csv')\n",
    "\n",
    "sum_fieldGoals = df_players.groupby(['tmID', 'year'])['fgMade'].sum().reset_index()\n",
    "sum_fieldGoals.rename(columns={'fgMade': 'sum_fgMadePlayer'}, inplace=True)\n",
    "df_compare = pd.merge(df_teams, sum_fieldGoals, on=['tmID', 'year'], how='left')\n",
    "\n",
    "df_compare['diff_fieldGoals'] = df_compare['o_fgm'] - df_compare['sum_fgMadePlayer']\n",
    "mismatch = df_compare[df_compare['diff_fieldGoals'] != 0]\n",
    "all_mismatches = pd.DataFrame()\n",
    "\n",
    "df_compare.loc[df_compare['diff_fieldGoals'] != 0, 'o_fgm'] = df_compare['sum_fgMadePlayer']\n",
    "df_teams_updated = df_compare.drop(columns=['sum_fgMadePlayer', 'diff_fieldGoals'])\n",
    "df_teams_updated.to_csv('newDataset/teams_WE_cleaned.csv', index=False)\n",
    "\n",
    "if not mismatch.empty:\n",
    "    first_year = mismatch['year'].min()\n",
    "    all_mismatches = pd.DataFrame()\n",
    "    for year in range(first_year, first_year + 10):\n",
    "        mismatch_specific_year = mismatch[mismatch['year'] == year]\n",
    "        all_mismatches = pd.concat([all_mismatches, mismatch_specific_year], ignore_index=True)\n",
    "\n",
    "all_mismatches.to_csv('mismatches/allmismatch_WE_fieldGoals.csv', index=False)"
   ],
   "id": "9ce8ad84e490b488",
   "outputs": [],
   "execution_count": 14
  },
  {
   "metadata": {
    "ExecuteTime": {
     "end_time": "2024-11-03T13:19:11.018855Z",
     "start_time": "2024-11-03T13:19:10.943926Z"
    }
   },
   "cell_type": "code",
   "source": [
    "## WEST\n",
    "\n",
    "df_teams = pd.read_csv('newDataset/teams_WE_cleaned.csv')\n",
    "df_players = pd.read_csv('newDataset/players_teams_cleaned.csv')\n",
    "\n",
    "sum_freeThrows = df_players.groupby(['tmID', 'year'])['ftMade'].sum().reset_index()\n",
    "sum_freeThrows.rename(columns={'ftMade': 'sum_ftMadePlayer'}, inplace=True)\n",
    "df_compare = pd.merge(df_teams, sum_freeThrows, on=['tmID', 'year'], how='left')\n",
    "\n",
    "df_compare['diff_freeThrows'] = df_compare['o_ftm'] - df_compare['sum_ftMadePlayer']\n",
    "mismatch = df_compare[df_compare['diff_freeThrows'] != 0]\n",
    "all_mismatches = pd.DataFrame()\n",
    "\n",
    "df_compare.loc[df_compare['diff_freeThrows'] != 0, 'o_ftm'] = df_compare['sum_ftMadePlayer']\n",
    "df_teams_updated = df_compare.drop(columns=['sum_ftMadePlayer', 'diff_freeThrows'])\n",
    "df_teams_updated.to_csv('newDataset/teams_WE_cleaned.csv', index=False)\n",
    "\n",
    "if not mismatch.empty:\n",
    "    first_year = mismatch['year'].min()\n",
    "    all_mismatches = pd.DataFrame()\n",
    "    for year in range(first_year, first_year + 10):\n",
    "        mismatch_specific_year = mismatch[mismatch['year'] == year]\n",
    "        all_mismatches = pd.concat([all_mismatches, mismatch_specific_year], ignore_index=True)\n",
    "\n",
    "all_mismatches.to_csv('mismatches/allmismatch_WE_freeThrows.csv', index=False)"
   ],
   "id": "8c20650d3925baeb",
   "outputs": [],
   "execution_count": 15
  },
  {
   "cell_type": "code",
   "id": "initial_id",
   "metadata": {
    "collapsed": true,
    "ExecuteTime": {
     "end_time": "2024-11-03T13:19:11.134451Z",
     "start_time": "2024-11-03T13:19:11.062647Z"
    }
   },
   "source": [
    "## WEST\n",
    "\n",
    "df_teams = pd.read_csv('newDataset/teams_WE_cleaned.csv')\n",
    "df_players = pd.read_csv('newDataset/players_teams_cleaned.csv')\n",
    "\n",
    "sum_freeThrows = df_players.groupby(['tmID', 'year'])['threeMade'].sum().reset_index()\n",
    "sum_freeThrows.rename(columns={'threeMade': 'sum_threeMadePlayer'}, inplace=True)\n",
    "df_compare = pd.merge(df_teams, sum_freeThrows, on=['tmID', 'year'], how='left')\n",
    "\n",
    "df_compare['diff_threePointers'] = df_compare['o_3pm'] - df_compare['sum_threeMadePlayer']\n",
    "mismatch = df_compare[df_compare['diff_threePointers'] != 0]\n",
    "all_mismatches = pd.DataFrame()\n",
    "\n",
    "df_compare.loc[df_compare['diff_threePointers'] != 0, 'o_3pm'] = df_compare['sum_threeMadePlayer']\n",
    "df_teams_updated = df_compare.drop(columns=['sum_threeMadePlayer', 'diff_threePointers'])\n",
    "df_teams_updated.to_csv('newDataset/teams_WE_cleaned.csv', index=False)\n",
    "\n",
    "if not mismatch.empty:\n",
    "    first_year = mismatch['year'].min()\n",
    "    all_mismatches = pd.DataFrame()\n",
    "    for year in range(first_year, first_year + 10):\n",
    "        mismatch_specific_year = mismatch[mismatch['year'] == year]\n",
    "        all_mismatches = pd.concat([all_mismatches, mismatch_specific_year], ignore_index=True)\n",
    "\n",
    "all_mismatches.to_csv('mismatches/allmismatch_WE_threePointers.csv', index=False)"
   ],
   "outputs": [],
   "execution_count": 16
  }
 ],
 "metadata": {
  "kernelspec": {
   "display_name": "Python 3",
   "language": "python",
   "name": "python3"
  },
  "language_info": {
   "codemirror_mode": {
    "name": "ipython",
    "version": 2
   },
   "file_extension": ".py",
   "mimetype": "text/x-python",
   "name": "python",
   "nbconvert_exporter": "python",
   "pygments_lexer": "ipython2",
   "version": "2.7.6"
  }
 },
 "nbformat": 4,
 "nbformat_minor": 5
}
