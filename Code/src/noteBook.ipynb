{
 "cells": [
  {
   "metadata": {
    "ExecuteTime": {
     "end_time": "2024-10-16T09:35:22.180306Z",
     "start_time": "2024-10-16T09:35:22.176269Z"
    }
   },
   "cell_type": "code",
   "source": [
    "import pandas as pd\n",
    "import matplotlib.pyplot as plt\n",
    "import seaborn as sns"
   ],
   "id": "b3feb3c8246e251",
   "outputs": [],
   "execution_count": 2
  },
  {
   "metadata": {},
   "cell_type": "markdown",
   "source": "# Data Analysis",
   "id": "82bc96242f0122d2"
  },
  {
   "metadata": {},
   "cell_type": "markdown",
   "source": "### Awards Player",
   "id": "62954b019ada55bb"
  },
  {
   "metadata": {
    "ExecuteTime": {
     "end_time": "2024-10-16T09:35:22.222431Z",
     "start_time": "2024-10-16T09:35:22.193683Z"
    }
   },
   "cell_type": "code",
   "source": [
    "awards_players_dataSet = pd.read_csv('../Other/basketballPlayoffs/awards_players.csv')\n",
    "#print(awards_players_dataSet.info())\n",
    "columns_to_remove = ['lgID']\n",
    "awards_players_new = awards_players_dataSet.drop(columns=columns_to_remove)\n",
    "\n",
    "awards_players_new = awards_players_new[(awards_players_new['award'] != 'Kim Perrot Sportsmanship Award') & (awards_players_new['award'] != 'Sixth Woman of the Year') ]\n",
    "\n",
    "awards_players_new.to_csv('newDataset/awards_players_cleaned.csv', index=False)"
   ],
   "id": "d862a4b268f5441",
   "outputs": [],
   "execution_count": 3
  },
  {
   "metadata": {},
   "cell_type": "markdown",
   "source": "### Coaches",
   "id": "dce811fc5da6f6d4"
  },
  {
   "metadata": {
    "ExecuteTime": {
     "end_time": "2024-10-16T09:35:22.254854Z",
     "start_time": "2024-10-16T09:35:22.244348Z"
    }
   },
   "cell_type": "code",
   "source": [
    "coaches_dataSet = pd.read_csv('../Other/basketballPlayoffs/coaches.csv')\n",
    "#print(coaches_dataSet.info())\n",
    "\n",
    "#Check if stint could be removed\n",
    "columns_to_remove = ['lgID', 'stint']\n",
    "coaches_new = coaches_dataSet.drop(columns=columns_to_remove)\n",
    "\n",
    "coaches_new.to_csv('newDataset/coaches_cleaned.csv', index=False)"
   ],
   "id": "17fa4c2759ddc25a",
   "outputs": [],
   "execution_count": 4
  },
  {
   "metadata": {},
   "cell_type": "markdown",
   "source": "### Players",
   "id": "261ab0e6d6e7dacd"
  },
  {
   "metadata": {
    "ExecuteTime": {
     "end_time": "2024-10-16T09:35:22.285384Z",
     "start_time": "2024-10-16T09:35:22.274005Z"
    }
   },
   "cell_type": "code",
   "source": [
    "players_dataSet = pd.read_csv('../Other/basketballPlayoffs/players.csv')\n",
    "#print(players_dataSet.info())\n",
    "\n",
    "#Maybe everything is usless\n",
    "columns_to_remove = ['firstseason', 'lastseason', 'college', 'collegeOther', 'deathDate']\n",
    "players_dataSet_new = players_dataSet.drop(columns=columns_to_remove)\n",
    "\n",
    "players_dataSet.to_csv('newDataset/players_cleaned.csv', index=False)"
   ],
   "id": "489e65c33159bff9",
   "outputs": [],
   "execution_count": 5
  },
  {
   "metadata": {},
   "cell_type": "markdown",
   "source": "### Players Teams",
   "id": "da61e031225d17f2"
  },
  {
   "metadata": {
    "ExecuteTime": {
     "end_time": "2024-10-16T09:35:22.331398Z",
     "start_time": "2024-10-16T09:35:22.308972Z"
    }
   },
   "cell_type": "code",
   "source": [
    "players_teams_dataSet = pd.read_csv('../Other/basketballPlayoffs/players_teams.csv')\n",
    "#print(players_teams_dataSet.info())\n",
    "\n",
    "#Check if something else could be removed\n",
    "columns_to_remove = ['lgID', 'turnovers']\n",
    "players_teams_new = players_teams_dataSet.drop(columns=columns_to_remove)\n",
    "\n",
    "players_teams_new.to_csv('newDataset/players_teams_cleaned.csv', index=False)"
   ],
   "id": "c103abf2a9aab49a",
   "outputs": [],
   "execution_count": 6
  },
  {
   "metadata": {},
   "cell_type": "markdown",
   "source": "### Series Post",
   "id": "20c201729c5ee6ac"
  },
  {
   "metadata": {
    "ExecuteTime": {
     "end_time": "2024-10-16T09:35:22.375104Z",
     "start_time": "2024-10-16T09:35:22.366639Z"
    }
   },
   "cell_type": "code",
   "source": [
    "series_post_dataSet = pd.read_csv('../Other/basketballPlayoffs/series_post.csv')\n",
    "#print(series_post_dataSet.info())\n",
    "\n",
    "#Check if something else could be removed\n",
    "columns_to_remove = ['lgIDWinner', 'lgIDLoser']\n",
    "series_post_new = series_post_dataSet.drop(columns=columns_to_remove)\n",
    "\n",
    "series_post_new.to_csv('newDataset/series_post_cleaned.csv', index=False)"
   ],
   "id": "8a06732fadb783a5",
   "outputs": [],
   "execution_count": 7
  },
  {
   "metadata": {},
   "cell_type": "markdown",
   "source": "### Teams",
   "id": "80e829fbe73a6bf9"
  },
  {
   "metadata": {},
   "cell_type": "code",
   "outputs": [],
   "execution_count": null,
   "source": [
    "teams_dataSet = pd.read_csv('../Other/basketballPlayoffs/teams.csv')\n",
    "#print(teams_dataSet.info()) \n",
    "columns_to_remove = ['lgID','divID', 'seeded', 'tmORB', 'tmDRB', 'tmTRB', 'opptmORB', 'opptmDRB', 'opptmTRB', 'homeW','homeL', 'awayW', 'awayL', 'confW','confL', 'min', 'attend', 'arena'] \n",
    "teams_new = teams_dataSet.drop(columns=columns_to_remove)\n",
    "teams_new.to_csv('newDataset/teams_cleaned.csv', index=False)\n"
   ],
   "id": "90bbed7ccccf725c"
  },
  {
   "metadata": {},
   "cell_type": "code",
   "outputs": [],
   "execution_count": null,
   "source": "",
   "id": "a3ea1e8e77963d11"
  },
  {
   "metadata": {},
   "cell_type": "markdown",
   "source": "### Teams Posts",
   "id": "5020b554cf4a7087"
  },
  {
   "metadata": {
    "ExecuteTime": {
     "end_time": "2024-10-16T09:35:22.496387Z",
     "start_time": "2024-10-16T09:35:22.489194Z"
    }
   },
   "cell_type": "code",
   "source": [
    "# Nothing to do for now\n",
    "teams_post_dataSet = pd.read_csv('../Other/basketballPlayoffs/teams_post.csv')\n",
    "columns_to_remove = [] \n",
    "teams_post_new = teams_post_dataSet.drop(columns=columns_to_remove)\n",
    "teams_post_new.to_csv('newDataset/teams_post.csv', index=False)"
   ],
   "id": "2085b2e91aad0336",
   "outputs": [],
   "execution_count": 9
  }
 ],
 "metadata": {
  "kernelspec": {
   "display_name": "Python 3 (ipykernel)",
   "language": "python",
   "name": "python3"
  },
  "language_info": {
   "codemirror_mode": {
    "name": "ipython",
    "version": 3
   },
   "file_extension": ".py",
   "mimetype": "text/x-python",
   "name": "python",
   "nbconvert_exporter": "python",
   "pygments_lexer": "ipython3",
   "version": "3.10.5"
  }
 },
 "nbformat": 4,
 "nbformat_minor": 5
}
