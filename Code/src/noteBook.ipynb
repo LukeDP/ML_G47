{
 "cells": [
  {
   "metadata": {
    "ExecuteTime": {
     "end_time": "2024-10-16T10:51:17.476142Z",
     "start_time": "2024-10-16T10:51:17.471811Z"
    }
   },
   "cell_type": "code",
   "source": [
    "import pandas as pd\n",
    "import matplotlib.pyplot as plt\n",
    "import seaborn as sns"
   ],
   "id": "b3feb3c8246e251",
   "outputs": [],
   "execution_count": 62
  },
  {
   "metadata": {},
   "cell_type": "markdown",
   "source": "# Data Analysis",
   "id": "82bc96242f0122d2"
  },
  {
   "metadata": {},
   "cell_type": "markdown",
   "source": "### Awards Player",
   "id": "62954b019ada55bb"
  },
  {
   "metadata": {
    "ExecuteTime": {
     "end_time": "2024-10-16T10:51:17.508288Z",
     "start_time": "2024-10-16T10:51:17.492704Z"
    }
   },
   "cell_type": "code",
   "source": [
    "awards_players_dataSet = pd.read_csv('../Other/basketballPlayoffs/awards_players.csv')\n",
    "#print(awards_players_dataSet.info())\n",
    "columns_to_remove = ['lgID']\n",
    "awards_players_new = awards_players_dataSet.drop(columns=columns_to_remove)\n",
    "\n",
    "awards_players_new = awards_players_new[(awards_players_new['award'] != 'Kim Perrot Sportsmanship Award') & (awards_players_new['award'] != 'Sixth Woman of the Year') ]\n",
    "\n",
    "awards_players_new.to_csv('newDataset/awards_players_cleaned.csv', index=False)"
   ],
   "id": "d862a4b268f5441",
   "outputs": [],
   "execution_count": 63
  },
  {
   "metadata": {},
   "cell_type": "markdown",
   "source": "### Coaches",
   "id": "dce811fc5da6f6d4"
  },
  {
   "metadata": {
    "ExecuteTime": {
     "end_time": "2024-10-16T10:51:17.623190Z",
     "start_time": "2024-10-16T10:51:17.615560Z"
    }
   },
   "cell_type": "code",
   "source": [
    "coaches_dataSet = pd.read_csv('../Other/basketballPlayoffs/coaches.csv')\n",
    "#print(coaches_dataSet.info())\n",
    "\n",
    "#Check if stint could be removed\n",
    "columns_to_remove = ['lgID']\n",
    "coaches_new = coaches_dataSet.drop(columns=columns_to_remove)\n",
    "\n",
    "coaches_new.to_csv('newDataset/coaches_cleaned.csv', index=False)"
   ],
   "id": "17fa4c2759ddc25a",
   "outputs": [],
   "execution_count": 64
  },
  {
   "metadata": {},
   "cell_type": "markdown",
   "source": "### Players",
   "id": "261ab0e6d6e7dacd"
  },
  {
   "metadata": {
    "ExecuteTime": {
     "end_time": "2024-10-16T10:51:17.733134Z",
     "start_time": "2024-10-16T10:51:17.722310Z"
    }
   },
   "cell_type": "code",
   "source": [
    "players_dataSet = pd.read_csv('../Other/basketballPlayoffs/players.csv')\n",
    "#print(players_dataSet.info())\n",
    "\n",
    "#Maybe everything is usless\n",
    "columns_to_remove = ['firstseason', 'lastseason', 'college', 'collegeOther', 'deathDate']\n",
    "players_dataSet_new = players_dataSet.drop(columns=columns_to_remove)\n",
    "\n",
    "players_dataSet.to_csv('newDataset/players_cleaned.csv', index=False)"
   ],
   "id": "489e65c33159bff9",
   "outputs": [],
   "execution_count": 65
  },
  {
   "metadata": {},
   "cell_type": "markdown",
   "source": "### Players Teams",
   "id": "da61e031225d17f2"
  },
  {
   "metadata": {
    "ExecuteTime": {
     "end_time": "2024-10-16T10:51:17.855695Z",
     "start_time": "2024-10-16T10:51:17.835755Z"
    }
   },
   "cell_type": "code",
   "source": [
    "players_teams_dataSet = pd.read_csv('../Other/basketballPlayoffs/players_teams.csv')\n",
    "#print(players_teams_dataSet.info())\n",
    "\n",
    "#Check if something else could be removed\n",
    "columns_to_remove = ['lgID', 'turnovers']\n",
    "players_teams_new = players_teams_dataSet.drop(columns=columns_to_remove)\n",
    "\n",
    "players_teams_new.to_csv('newDataset/players_teams_cleaned.csv', index=False)"
   ],
   "id": "c103abf2a9aab49a",
   "outputs": [],
   "execution_count": 66
  },
  {
   "metadata": {},
   "cell_type": "markdown",
   "source": "### Series Post",
   "id": "20c201729c5ee6ac"
  },
  {
   "metadata": {
    "ExecuteTime": {
     "end_time": "2024-10-16T10:51:17.959042Z",
     "start_time": "2024-10-16T10:51:17.951669Z"
    }
   },
   "cell_type": "code",
   "source": [
    "series_post_dataSet = pd.read_csv('../Other/basketballPlayoffs/series_post.csv')\n",
    "#print(series_post_dataSet.info())\n",
    "\n",
    "#Check if something else could be removed\n",
    "columns_to_remove = ['lgIDWinner', 'lgIDLoser']\n",
    "series_post_new = series_post_dataSet.drop(columns=columns_to_remove)\n",
    "\n",
    "series_post_new.to_csv('newDataset/series_post_cleaned.csv', index=False)"
   ],
   "id": "8a06732fadb783a5",
   "outputs": [],
   "execution_count": 67
  },
  {
   "metadata": {},
   "cell_type": "markdown",
   "source": "### Teams",
   "id": "80e829fbe73a6bf9"
  },
  {
   "metadata": {
    "ExecuteTime": {
     "end_time": "2024-10-16T10:51:18.068907Z",
     "start_time": "2024-10-16T10:51:18.056568Z"
    }
   },
   "cell_type": "code",
   "source": [
    "teams_dataSet = pd.read_csv('../Other/basketballPlayoffs/teams.csv')\n",
    "#print(teams_dataSet.info()) \n",
    "columns_to_remove = ['lgID','divID', 'seeded', 'tmORB', 'tmDRB', 'tmTRB', 'opptmORB', 'opptmDRB', 'opptmTRB', 'homeW','homeL', 'awayW', 'awayL', 'confW','confL', 'min', 'attend', 'arena'] \n",
    "teams_new = teams_dataSet.drop(columns=columns_to_remove)\n",
    "teams_new.to_csv('newDataset/teams_cleaned.csv', index=False)"
   ],
   "id": "90bbed7ccccf725c",
   "outputs": [],
   "execution_count": 68
  },
  {
   "metadata": {
    "ExecuteTime": {
     "end_time": "2024-10-16T10:51:18.183742Z",
     "start_time": "2024-10-16T10:51:18.170797Z"
    }
   },
   "cell_type": "code",
   "source": [
    "#add the column winrate\n",
    "df = pd.read_csv('newDataset/teams_cleaned.csv')\n",
    "\n",
    "df['winrate'] =  df['won'] / df['GP'] * 100\n",
    "df.to_csv('newDataset/teams_cleaned.csv', index=False)\n",
    "\n",
    "remove = ['won', 'lost']\n",
    "df = df.drop(columns=remove)\n",
    "df.to_csv('newDataset/teams_cleaned.csv', index=False)"
   ],
   "id": "a3ea1e8e77963d11",
   "outputs": [],
   "execution_count": 69
  },
  {
   "metadata": {
    "ExecuteTime": {
     "end_time": "2024-10-16T10:51:18.310249Z",
     "start_time": "2024-10-16T10:51:18.282437Z"
    }
   },
   "cell_type": "code",
   "source": [
    "#mismatches, order by year\n",
    "#TODO\n",
    "df_teams = pd.read_csv('newDataset/teams_cleaned.csv')\n",
    "df_players = pd.read_csv('newDataset/players_teams_cleaned.csv')\n",
    "\n",
    "# Supponiamo che 'TeamID' e 'Anno' siano comuni a entrambi i file\n",
    "# e che 'TotaleTiri' sia la colonna con la somma dei tiri nel file dei team\n",
    "# e 'Tiri' sia la colonna con i tiri dei singoli giocatori\n",
    "\n",
    "# Calcola la somma dei tiri per ciascun team e anno a partire dalla tabella dei giocatori\n",
    "sum_fieldGoals = df_players.groupby(['tmID', 'year'])['fgMade'].sum().reset_index()\n",
    "sum_fieldGoals.rename(columns={'fgMade': 'SommafgMadePlayer'}, inplace=True)\n",
    "\n",
    "# Unisci questa somma calcolata con il file dei team per confrontare\n",
    "df_confronto = pd.merge(df_teams, sum_fieldGoals, on=['tmID', 'year'], how='left')\n",
    "\n",
    "# Calcola la differenza tra i totali riportati e quelli calcolati\n",
    "df_confronto['DifferenzaTiri'] = df_confronto['o_fgm'] - df_confronto['SommafgMadePlayer']\n",
    "\n",
    "# Trova le righe con discrepanze\n",
    "discrepanze = df_confronto[df_confronto['DifferenzaTiri'] != 0]\n",
    "\n",
    "year = 10\n",
    "discrepanze_anno_specifico = discrepanze[discrepanze['year'] == year]\n",
    "print(discrepanze_anno_specifico)\n",
    "\n",
    "# Se vuoi salvare le discrepanze in un file .csv\n",
    "discrepanze.to_csv('discrepanze_tiri_per_anno.csv', index=False)\n"
   ],
   "id": "222307577dd29f1",
   "outputs": [
    {
     "name": "stdout",
     "output_type": "stream",
     "text": [
      "     year tmID franchID confID  rank playoff firstRound semis finals  \\\n",
      "12     10  CHI      CHI     EA     5       N        NaN   NaN    NaN   \n",
      "111    10  SAC      SAC     WE     6       N        NaN   NaN    NaN   \n",
      "118    10  SAS      SAS     WE     4       Y          L   NaN    NaN   \n",
      "\n",
      "                         name  ...  d_asts  d_pf  d_stl  d_to  d_blk  d_pts  \\\n",
      "12                Chicago Sky  ...     610   636    273   489    121   2693   \n",
      "111       Sacramento Monarchs  ...     627   704    262   576    147   2690   \n",
      "118  San Antonio Silver Stars  ...     529   643    268   502    120   2661   \n",
      "\n",
      "     GP    winrate  SommafgMadePlayer  DifferenzaTiri  \n",
      "12   34  47.058824                907              23  \n",
      "111  34  35.294118                867              79  \n",
      "118  34  44.117647                857              79  \n",
      "\n",
      "[3 rows x 44 columns]\n"
     ]
    }
   ],
   "execution_count": 70
  },
  {
   "metadata": {},
   "cell_type": "markdown",
   "source": "### Teams Posts",
   "id": "5020b554cf4a7087"
  },
  {
   "metadata": {
    "ExecuteTime": {
     "end_time": "2024-10-16T10:51:18.415281Z",
     "start_time": "2024-10-16T10:51:18.407702Z"
    }
   },
   "cell_type": "code",
   "source": [
    "# Nothing to do for now\n",
    "teams_post_dataSet = pd.read_csv('../Other/basketballPlayoffs/teams_post.csv')\n",
    "columns_to_remove = [] \n",
    "teams_post_new = teams_post_dataSet.drop(columns=columns_to_remove)\n",
    "teams_post_new.to_csv('newDataset/teams_post.csv', index=False)"
   ],
   "id": "2085b2e91aad0336",
   "outputs": [],
   "execution_count": 71
  }
 ],
 "metadata": {
  "kernelspec": {
   "display_name": "Python 3 (ipykernel)",
   "language": "python",
   "name": "python3"
  },
  "language_info": {
   "codemirror_mode": {
    "name": "ipython",
    "version": 3
   },
   "file_extension": ".py",
   "mimetype": "text/x-python",
   "name": "python",
   "nbconvert_exporter": "python",
   "pygments_lexer": "ipython3",
   "version": "3.10.5"
  }
 },
 "nbformat": 4,
 "nbformat_minor": 5
}
