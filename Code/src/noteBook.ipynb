{
 "cells": [
  {
   "metadata": {
    "ExecuteTime": {
     "end_time": "2024-10-29T09:49:53.942260Z",
     "start_time": "2024-10-29T09:49:53.936145Z"
    }
   },
   "cell_type": "code",
   "source": [
    "import pandas as pd\n",
    "import matplotlib.pyplot as plt\n",
    "import seaborn as sns\n",
    "from scipy.stats import pearsonr, kendalltau\n",
    "import numpy as np"
   ],
   "id": "b3feb3c8246e251",
   "outputs": [],
   "execution_count": 5
  },
  {
   "metadata": {},
   "cell_type": "markdown",
   "source": "# Data Analysis",
   "id": "82bc96242f0122d2"
  },
  {
   "metadata": {},
   "cell_type": "markdown",
   "source": "### Awards Player",
   "id": "62954b019ada55bb"
  },
  {
   "metadata": {
    "ExecuteTime": {
     "end_time": "2024-10-29T09:49:53.964960Z",
     "start_time": "2024-10-29T09:49:53.952522Z"
    }
   },
   "cell_type": "code",
   "source": [
    "awards_players_dataSet = pd.read_csv('../Other/basketballPlayoffs/awards_players.csv')\n",
    "#print(awards_players_dataSet.info())\n",
    "columns_to_remove = ['lgID']\n",
    "awards_players_new = awards_players_dataSet.drop(columns=columns_to_remove)\n",
    "\n",
    "awards_players_new = awards_players_new[(awards_players_new['award'] != 'Kim Perrot Sportsmanship Award') & (awards_players_new['award'] != 'Sixth Woman of the Year') ]\n",
    "\n",
    "awards_players_new.to_csv('newDataset/awards_players_cleaned.csv', index=False)"
   ],
   "id": "d862a4b268f5441",
   "outputs": [],
   "execution_count": 6
  },
  {
   "metadata": {},
   "cell_type": "markdown",
   "source": "### Coaches",
   "id": "dce811fc5da6f6d4"
  },
  {
   "metadata": {
    "ExecuteTime": {
     "end_time": "2024-10-29T09:49:54.010322Z",
     "start_time": "2024-10-29T09:49:54.003158Z"
    }
   },
   "cell_type": "code",
   "source": [
    "coaches_dataSet = pd.read_csv('../Other/basketballPlayoffs/coaches.csv')\n",
    "#print(coaches_dataSet.info())\n",
    "\n",
    "#Check if stint could be removed\n",
    "columns_to_remove = ['lgID']\n",
    "coaches_new = coaches_dataSet.drop(columns=columns_to_remove)\n",
    "\n",
    "coaches_new.to_csv('newDataset/coaches_cleaned.csv', index=False)"
   ],
   "id": "17fa4c2759ddc25a",
   "outputs": [],
   "execution_count": 7
  },
  {
   "metadata": {},
   "cell_type": "markdown",
   "source": "### Players",
   "id": "261ab0e6d6e7dacd"
  },
  {
   "metadata": {
    "ExecuteTime": {
     "end_time": "2024-10-29T09:49:54.057531Z",
     "start_time": "2024-10-29T09:49:54.046753Z"
    }
   },
   "cell_type": "code",
   "source": [
    "players_dataSet = pd.read_csv('../Other/basketballPlayoffs/players.csv')\n",
    "#print(players_dataSet.info())\n",
    "\n",
    "#Maybe everything is usless\n",
    "columns_to_remove = ['firstseason', 'lastseason', 'college', 'collegeOther', 'deathDate']\n",
    "players_dataSet_new = players_dataSet.drop(columns=columns_to_remove)\n",
    "\n",
    "players_dataSet.to_csv('newDataset/players_cleaned.csv', index=False)"
   ],
   "id": "489e65c33159bff9",
   "outputs": [],
   "execution_count": 8
  },
  {
   "metadata": {},
   "cell_type": "markdown",
   "source": "### Players Teams",
   "id": "da61e031225d17f2"
  },
  {
   "metadata": {
    "ExecuteTime": {
     "end_time": "2024-10-29T09:49:54.115471Z",
     "start_time": "2024-10-29T09:49:54.094453Z"
    }
   },
   "cell_type": "code",
   "source": [
    "players_teams_dataSet = pd.read_csv('../Other/basketballPlayoffs/players_teams.csv')\n",
    "#print(players_teams_dataSet.info())\n",
    "\n",
    "#Check if something else could be removed\n",
    "columns_to_remove = ['lgID', 'turnovers']\n",
    "players_teams_new = players_teams_dataSet.drop(columns=columns_to_remove)\n",
    "\n",
    "players_teams_new.to_csv('newDataset/players_teams_cleaned.csv', index=False)"
   ],
   "id": "c103abf2a9aab49a",
   "outputs": [],
   "execution_count": 9
  },
  {
   "metadata": {},
   "cell_type": "markdown",
   "source": "### Series Post",
   "id": "20c201729c5ee6ac"
  },
  {
   "metadata": {
    "ExecuteTime": {
     "end_time": "2024-10-29T09:49:54.165999Z",
     "start_time": "2024-10-29T09:49:54.158262Z"
    }
   },
   "cell_type": "code",
   "source": [
    "series_post_dataSet = pd.read_csv('../Other/basketballPlayoffs/series_post.csv')\n",
    "#print(series_post_dataSet.info())\n",
    "\n",
    "#Check if something else could be removed\n",
    "columns_to_remove = ['lgIDWinner', 'lgIDLoser']\n",
    "series_post_new = series_post_dataSet.drop(columns=columns_to_remove)\n",
    "\n",
    "series_post_new.to_csv('newDataset/series_post_cleaned.csv', index=False)"
   ],
   "id": "8a06732fadb783a5",
   "outputs": [],
   "execution_count": 10
  },
  {
   "metadata": {},
   "cell_type": "markdown",
   "source": "### Teams",
   "id": "80e829fbe73a6bf9"
  },
  {
   "metadata": {
    "ExecuteTime": {
     "end_time": "2024-10-29T09:49:54.224411Z",
     "start_time": "2024-10-29T09:49:54.213733Z"
    }
   },
   "cell_type": "code",
   "source": [
    "teams_dataSet = pd.read_csv('../Other/basketballPlayoffs/teams.csv')\n",
    "#print(teams_dataSet.info()) \n",
    "columns_to_remove = ['lgID','divID', 'seeded', 'tmORB', 'tmDRB', 'tmTRB', 'opptmORB', 'opptmDRB', 'opptmTRB', 'homeW','homeL', 'awayW', 'awayL', 'confW','confL', 'min', 'attend', 'arena'] \n",
    "teams_new = teams_dataSet.drop(columns=columns_to_remove)"
   ],
   "id": "90bbed7ccccf725c",
   "outputs": [],
   "execution_count": 11
  },
  {
   "metadata": {
    "ExecuteTime": {
     "end_time": "2024-10-29T09:49:54.286305Z",
     "start_time": "2024-10-29T09:49:54.279046Z"
    }
   },
   "cell_type": "code",
   "source": [
    "# two subset: east and west\n",
    "teams_EA = teams_new[teams_new['confID'] == 'EA']\n",
    "teams_WE = teams_new[teams_new['confID'] == 'WE']\n",
    "\n",
    "# Salva i due dataset filtrati in file CSV separati\n",
    "teams_EA.to_csv('newDataset/teams_EA_cleaned.csv', index=False)\n",
    "teams_WE.to_csv('newDataset/teams_WE_cleaned.csv', index=False)"
   ],
   "id": "50c502ba2bf4cb16",
   "outputs": [],
   "execution_count": 12
  },
  {
   "metadata": {
    "ExecuteTime": {
     "end_time": "2024-10-29T09:49:54.370356Z",
     "start_time": "2024-10-29T09:49:54.349742Z"
    }
   },
   "cell_type": "code",
   "source": [
    "#add the column winrate\n",
    "df_EA = pd.read_csv('newDataset/teams_EA_cleaned.csv')\n",
    "df_WE = pd.read_csv('newDataset/teams_WE_cleaned.csv')\n",
    "\n",
    "df_EA['winrate'] =  df_EA['won'] / df_EA['GP'] * 100\n",
    "df_EA.to_csv('newDataset/teams_EA_cleaned.csv', index=False)\n",
    "\n",
    "df_WE['winrate'] =  df_WE['won'] / df_WE['GP'] * 100\n",
    "df_WE.to_csv('newDataset/teams_WE_cleaned.csv', index=False)\n",
    "\n",
    "\n",
    "remove = ['won', 'lost']\n",
    "df_EA = df_EA.drop(columns=remove)\n",
    "df_EA.to_csv('newDataset/teams_EA_cleaned.csv', index=False)\n",
    "\n",
    "df_WE = df_WE.drop(columns=remove)\n",
    "df_WE.to_csv('newDataset/teams_WE_cleaned.csv', index=False)"
   ],
   "id": "a3ea1e8e77963d11",
   "outputs": [],
   "execution_count": 13
  },
  {
   "metadata": {
    "ExecuteTime": {
     "end_time": "2024-10-29T09:49:54.488901Z",
     "start_time": "2024-10-29T09:49:54.440852Z"
    }
   },
   "cell_type": "code",
   "source": [
    "## EAST\n",
    "\n",
    "#mismatches goals made, ordered by year\n",
    "df_teams = pd.read_csv('newDataset/teams_EA_cleaned.csv')\n",
    "df_players = pd.read_csv('newDataset/players_teams_cleaned.csv')\n",
    "\n",
    "# sum  of fieldGoals group by team from \"players_teams\"\n",
    "sum_fieldGoals = df_players.groupby(['tmID', 'year'])['fgMade'].sum().reset_index()\n",
    "sum_fieldGoals.rename(columns={'fgMade': 'sum_fgMadePlayer'}, inplace=True)\n",
    "# add sum to teams to merge\n",
    "df_compare = pd.merge(df_teams, sum_fieldGoals, on=['tmID', 'year'], how='left')\n",
    "\n",
    "# difference between total on teams and total on sum players\n",
    "df_compare['diff_fieldGoals'] = df_compare['o_fgm'] - df_compare['sum_fgMadePlayer']\n",
    "# find mismatch in rows\n",
    "mismatch = df_compare[df_compare['diff_fieldGoals'] != 0]\n",
    "\n",
    "# update 'o_fgm' only if is different\n",
    "df_compare.loc[df_compare['diff_fieldGoals'] != 0, 'o_fgm'] = df_compare['sum_fgMadePlayer']\n",
    "df_teams_updated = df_compare.drop(columns=['sum_fgMadePlayer', 'diff_fieldGoals'])\n",
    "df_teams_updated.to_csv('newDataset/teams_EA_cleaned.csv', index=False)\n",
    "\n",
    "if not mismatch.empty:\n",
    "    first_year = mismatch['year'].min()\n",
    "    # new dataframe for all the mismatch\n",
    "    all_mismatches = pd.DataFrame()\n",
    "    # for all the 10 years\n",
    "    for year in range(first_year, first_year + 10):\n",
    "        mismatch_specific_year = mismatch[mismatch['year'] == year]\n",
    "        all_mismatches = pd.concat([all_mismatches, mismatch_specific_year], ignore_index=True)\n",
    "\n",
    "# save all in .csv\n",
    "all_mismatches.to_csv('allmismatch_EA_fieldGoals.csv', index=False)"
   ],
   "id": "222307577dd29f1",
   "outputs": [],
   "execution_count": 14
  },
  {
   "metadata": {
    "ExecuteTime": {
     "end_time": "2024-10-29T09:49:54.629616Z",
     "start_time": "2024-10-29T09:49:54.586439Z"
    }
   },
   "cell_type": "code",
   "source": [
    "## EAST\n",
    "\n",
    "#mismatches free throws made, ordered by year\n",
    "df_teams = pd.read_csv('newDataset/teams_EA_cleaned.csv')\n",
    "df_players = pd.read_csv('newDataset/players_teams_cleaned.csv')\n",
    "\n",
    "# sum  of fieldGoals group by team from \"players_teams\"\n",
    "sum_freeThrows = df_players.groupby(['tmID', 'year'])['ftMade'].sum().reset_index()\n",
    "sum_freeThrows.rename(columns={'ftMade': 'sum_ftMadePlayer'}, inplace=True)\n",
    "# add sum to teams to merge\n",
    "df_compare = pd.merge(df_teams, sum_freeThrows, on=['tmID', 'year'], how='left')\n",
    "\n",
    "# difference between total on teams and total on sum players\n",
    "df_compare['diff_freeThrows'] = df_compare['o_ftm'] - df_compare['sum_ftMadePlayer']\n",
    "# find mismatch in rows\n",
    "mismatch = df_compare[df_compare['diff_freeThrows'] != 0]\n",
    "\n",
    "# update 'o_ftm' only if is different\n",
    "df_compare.loc[df_compare['diff_freeThrows'] != 0, 'o_ftm'] = df_compare['sum_ftMadePlayer']\n",
    "df_teams_updated = df_compare.drop(columns=['sum_ftMadePlayer', 'diff_freeThrows'])\n",
    "df_teams_updated.to_csv('newDataset/teams_EA_cleaned.csv', index=False)\n",
    "\n",
    "if not mismatch.empty:\n",
    "    first_year = mismatch['year'].min()\n",
    "    # new dataframe for all the mismatch\n",
    "    all_mismatches = pd.DataFrame()\n",
    "    # for all the 10 years\n",
    "    for year in range(first_year, first_year + 10):\n",
    "        mismatch_specific_year = mismatch[mismatch['year'] == year]\n",
    "        all_mismatches = pd.concat([all_mismatches, mismatch_specific_year], ignore_index=True)\n",
    "\n",
    "# save all in .csv\n",
    "all_mismatches.to_csv('allmismatch_EA_freeThrows.csv', index=False)"
   ],
   "id": "9742cf9f2c2e6f2e",
   "outputs": [],
   "execution_count": 15
  },
  {
   "metadata": {
    "ExecuteTime": {
     "end_time": "2024-10-29T09:49:54.770624Z",
     "start_time": "2024-10-29T09:49:54.727826Z"
    }
   },
   "cell_type": "code",
   "source": [
    "## EAST\n",
    "\n",
    "#mismatches three-pointers made, ordered by year\n",
    "df_teams = pd.read_csv('newDataset/teams_EA_cleaned.csv')\n",
    "df_players = pd.read_csv('newDataset/players_teams_cleaned.csv')\n",
    "\n",
    "# sum  of fieldGoals group by team from \"players_teams\"\n",
    "sum_freeThrows = df_players.groupby(['tmID', 'year'])['threeMade'].sum().reset_index()\n",
    "sum_freeThrows.rename(columns={'threeMade': 'sum_threeMadePlayer'}, inplace=True)\n",
    "# add sum to teams to merge\n",
    "df_compare = pd.merge(df_teams, sum_freeThrows, on=['tmID', 'year'], how='left')\n",
    "\n",
    "# difference between total on teams and total on sum players\n",
    "df_compare['diff_threePointers'] = df_compare['o_3pm'] - df_compare['sum_threeMadePlayer']\n",
    "# find mismatch in rows\n",
    "mismatch = df_compare[df_compare['diff_threePointers'] != 0]\n",
    "\n",
    "# update 'o_3pm' only if is different\n",
    "df_compare.loc[df_compare['diff_threePointers'] != 0, 'o_3pm'] = df_compare['sum_threeMadePlayer']\n",
    "df_teams_updated = df_compare.drop(columns=['sum_threeMadePlayer', 'diff_threePointers'])\n",
    "df_teams_updated.to_csv('newDataset/teams_EA_cleaned.csv', index=False)\n",
    "\n",
    "if not mismatch.empty:\n",
    "    first_year = mismatch['year'].min()\n",
    "    # new dataframe for all the mismatch\n",
    "    all_mismatches = pd.DataFrame()\n",
    "    # for all the 10 years\n",
    "    for year in range(first_year, first_year + 10):\n",
    "        mismatch_specific_year = mismatch[mismatch['year'] == year]\n",
    "        all_mismatches = pd.concat([all_mismatches, mismatch_specific_year], ignore_index=True)\n",
    "\n",
    "# save all in .csv\n",
    "all_mismatches.to_csv('allmismatch_EA_threePointers.csv', index=False)"
   ],
   "id": "3fa2db18790b6e29",
   "outputs": [],
   "execution_count": 16
  },
  {
   "metadata": {
    "ExecuteTime": {
     "end_time": "2024-10-29T09:49:55.012778Z",
     "start_time": "2024-10-29T09:49:54.969132Z"
    }
   },
   "cell_type": "code",
   "source": [
    "## WEST\n",
    "\n",
    "#mismatches goals made, ordered by year\n",
    "df_teams = pd.read_csv('newDataset/teams_WE_cleaned.csv')\n",
    "df_players = pd.read_csv('newDataset/players_teams_cleaned.csv')\n",
    "\n",
    "# sum  of fieldGoals group by team from \"players_teams\"\n",
    "sum_fieldGoals = df_players.groupby(['tmID', 'year'])['fgMade'].sum().reset_index()\n",
    "sum_fieldGoals.rename(columns={'fgMade': 'sum_fgMadePlayer'}, inplace=True)\n",
    "# add sum to teams to merge\n",
    "df_compare = pd.merge(df_teams, sum_fieldGoals, on=['tmID', 'year'], how='left')\n",
    "\n",
    "# difference between total on teams and total on sum players\n",
    "df_compare['diff_fieldGoals'] = df_compare['o_fgm'] - df_compare['sum_fgMadePlayer']\n",
    "# find mismatch in rows\n",
    "mismatch = df_compare[df_compare['diff_fieldGoals'] != 0]\n",
    "\n",
    "# update 'o_fgm' only if is different\n",
    "df_compare.loc[df_compare['diff_fieldGoals'] != 0, 'o_fgm'] = df_compare['sum_fgMadePlayer']\n",
    "df_teams_updated = df_compare.drop(columns=['sum_fgMadePlayer', 'diff_fieldGoals'])\n",
    "df_teams_updated.to_csv('newDataset/teams_WE_cleaned.csv', index=False)\n",
    "\n",
    "if not mismatch.empty:\n",
    "    first_year = mismatch['year'].min()\n",
    "    # new dataframe for all the mismatch\n",
    "    all_mismatches = pd.DataFrame()\n",
    "    # for all the 10 years\n",
    "    for year in range(first_year, first_year + 10):\n",
    "        mismatch_specific_year = mismatch[mismatch['year'] == year]\n",
    "        all_mismatches = pd.concat([all_mismatches, mismatch_specific_year], ignore_index=True)\n",
    "# save all in .csv\n",
    "all_mismatches.to_csv('allmismatch_WE_fieldGoals.csv', index=False)"
   ],
   "id": "635e4ce6ee7172d7",
   "outputs": [],
   "execution_count": 17
  },
  {
   "metadata": {
    "ExecuteTime": {
     "end_time": "2024-10-29T09:49:55.059059Z",
     "start_time": "2024-10-29T09:49:55.016747Z"
    }
   },
   "cell_type": "code",
   "source": [
    "## WEST\n",
    "\n",
    "#mismatches free throws made, ordered by year\n",
    "df_teams = pd.read_csv('newDataset/teams_WE_cleaned.csv')\n",
    "df_players = pd.read_csv('newDataset/players_teams_cleaned.csv')\n",
    "\n",
    "# sum  of fieldGoals group by team from \"players_teams\"\n",
    "sum_freeThrows = df_players.groupby(['tmID', 'year'])['ftMade'].sum().reset_index()\n",
    "sum_freeThrows.rename(columns={'ftMade': 'sum_ftMadePlayer'}, inplace=True)\n",
    "# add sum to teams to merge\n",
    "df_compare = pd.merge(df_teams, sum_freeThrows, on=['tmID', 'year'], how='left')\n",
    "\n",
    "# difference between total on teams and total on sum players\n",
    "df_compare['diff_freeThrows'] = df_compare['o_ftm'] - df_compare['sum_ftMadePlayer']\n",
    "# find mismatch in rows\n",
    "mismatch = df_compare[df_compare['diff_freeThrows'] != 0]\n",
    "\n",
    "# update 'o_ftm' only if is different\n",
    "df_compare.loc[df_compare['diff_freeThrows'] != 0, 'o_ftm'] = df_compare['sum_ftMadePlayer']\n",
    "df_teams_updated = df_compare.drop(columns=['sum_ftMadePlayer', 'diff_freeThrows'])\n",
    "df_teams_updated.to_csv('newDataset/teams_WE_cleaned.csv', index=False)\n",
    "\n",
    "if not mismatch.empty:\n",
    "    first_year = mismatch['year'].min()\n",
    "    # new dataframe for all the mismatch\n",
    "    all_mismatches = pd.DataFrame()\n",
    "    # for all the 10 years\n",
    "    for year in range(first_year, first_year + 10):\n",
    "        mismatch_specific_year = mismatch[mismatch['year'] == year]\n",
    "        all_mismatches = pd.concat([all_mismatches, mismatch_specific_year], ignore_index=True)\n",
    "\n",
    "# save all in .csv\n",
    "all_mismatches.to_csv('allmismatch_WE_freeThrows.csv', index=False)"
   ],
   "id": "6fbab6c5837ab686",
   "outputs": [],
   "execution_count": 18
  },
  {
   "metadata": {
    "ExecuteTime": {
     "end_time": "2024-10-29T09:49:55.200689Z",
     "start_time": "2024-10-29T09:49:55.157091Z"
    }
   },
   "cell_type": "code",
   "source": [
    "## WEST\n",
    "\n",
    "#mismatches three-pointers made, ordered by year\n",
    "df_teams = pd.read_csv('newDataset/teams_WE_cleaned.csv')\n",
    "df_players = pd.read_csv('newDataset/players_teams_cleaned.csv')\n",
    "\n",
    "# sum  of fieldGoals group by team from \"players_teams\"\n",
    "sum_freeThrows = df_players.groupby(['tmID', 'year'])['threeMade'].sum().reset_index()\n",
    "sum_freeThrows.rename(columns={'threeMade': 'sum_threeMadePlayer'}, inplace=True)\n",
    "# add sum to teams to merge\n",
    "df_compare = pd.merge(df_teams, sum_freeThrows, on=['tmID', 'year'], how='left')\n",
    "\n",
    "# difference between total on teams and total on sum players\n",
    "df_compare['diff_threePointers'] = df_compare['o_3pm'] - df_compare['sum_threeMadePlayer']\n",
    "# find mismatch in rows\n",
    "mismatch = df_compare[df_compare['diff_threePointers'] != 0]\n",
    "\n",
    "# update 'o_3pm' only if is different\n",
    "df_compare.loc[df_compare['diff_threePointers'] != 0, 'o_3pm'] = df_compare['sum_threeMadePlayer']\n",
    "df_teams_updated = df_compare.drop(columns=['sum_threeMadePlayer', 'diff_threePointers'])\n",
    "df_teams_updated.to_csv('newDataset/teams_WE_cleaned.csv', index=False)\n",
    "\n",
    "if not mismatch.empty:\n",
    "    first_year = mismatch['year'].min()\n",
    "    # new dataframe for all the mismatch\n",
    "    all_mismatches = pd.DataFrame()\n",
    "    # for all the 10 years\n",
    "    for year in range(first_year, first_year + 10):\n",
    "        mismatch_specific_year = mismatch[mismatch['year'] == year]\n",
    "        all_mismatches = pd.concat([all_mismatches, mismatch_specific_year], ignore_index=True)\n",
    "\n",
    "# save all in .csv\n",
    "all_mismatches.to_csv('allmismatch_WE_threePointers.csv', index=False)"
   ],
   "id": "6164570308b93107",
   "outputs": [],
   "execution_count": 19
  },
  {
   "metadata": {},
   "cell_type": "markdown",
   "source": "### Teams Posts",
   "id": "5020b554cf4a7087"
  },
  {
   "metadata": {
    "ExecuteTime": {
     "end_time": "2024-10-29T09:49:55.306180Z",
     "start_time": "2024-10-29T09:49:55.299559Z"
    }
   },
   "cell_type": "code",
   "source": [
    "# Nothing to do for now\n",
    "teams_post_dataSet = pd.read_csv('../Other/basketballPlayoffs/teams_post.csv')\n",
    "columns_to_remove = [] \n",
    "teams_post_new = teams_post_dataSet.drop(columns=columns_to_remove)\n",
    "teams_post_new.to_csv('newDataset/teams_post.csv', index=False)"
   ],
   "id": "2085b2e91aad0336",
   "outputs": [],
   "execution_count": 20
  },
  {
   "metadata": {},
   "cell_type": "markdown",
   "source": "## Correlations",
   "id": "f1582dd37759a80d"
  },
  {
   "metadata": {
    "ExecuteTime": {
     "end_time": "2024-10-29T09:49:55.623019Z",
     "start_time": "2024-10-29T09:49:55.410597Z"
    }
   },
   "cell_type": "code",
   "source": [
    "awards_players_df = pd.read_csv('newDataset/awards_players_cleaned.csv')\n",
    "players_team_df = pd.read_csv('newDataset/players_teams_cleaned.csv')\n",
    "teams_df = pd.read_csv('../Other/basketballPlayoffs/teams.csv')\n",
    "\n",
    "merged_teams = pd.merge(players_team_df, teams_df, on='tmID', how='inner')\n",
    "final_df = pd.merge(merged_teams, awards_players_df, on=['playerID'], how='inner')\n",
    "\n",
    "\n",
    "awards_array = final_df['award'].unique()\n",
    "results = []\n",
    "\n",
    "for award in awards_array:\n",
    "    award_df = final_df[final_df['award'] == award]\n",
    "\n",
    "    rank_1_4_count = award_df[(award_df['rank'] >= 1) & (award_df['rank'] <= 4)].shape[0]\n",
    "    total_count = award_df.shape[0]\n",
    "\n",
    "    if total_count > 0:\n",
    "        rank_1_4_percentage = (rank_1_4_count / total_count) * 100\n",
    "    else:\n",
    "        rank_1_4_percentage = 0\n",
    "\n",
    "    results.append({'award': award, 'Rank_1_4_Percentage': rank_1_4_percentage})\n",
    "\n",
    "results_df = pd.DataFrame(results)\n",
    "\n",
    "print(\"\\nResults for each award:\")\n",
    "print(results_df)\n",
    "\n",
    "# 9. Visualizzazione della percentuale in un grafico a barre\n",
    "plt.figure(figsize=(12, 6))\n",
    "plt.bar(results_df['award'], results_df['Rank_1_4_Percentage'], color='lightblue')\n",
    "plt.title('Percentage of Players with Award and Team Rank between 1 and 4')\n",
    "plt.xlabel('Awards')\n",
    "plt.ylabel('Percentage of Players with Team Rank 1-4')\n",
    "plt.xticks(rotation=45, ha='right')\n",
    "plt.show()"
   ],
   "id": "3990fb6ce8c3cc73",
   "outputs": [
    {
     "name": "stdout",
     "output_type": "stream",
     "text": [
      "\n",
      "Results for each award:\n",
      "                                    award  Rank_1_4_Percentage\n",
      "0                      Rookie of the Year            52.436195\n",
      "1        WNBA Finals Most Valuable Player            63.395225\n",
      "2                    Most Improved Player            58.941606\n",
      "3                    WNBA All-Decade Team            66.414141\n",
      "4            Defensive Player of the Year            70.611702\n",
      "5      All-Star Game Most Valuable Player            76.076555\n",
      "6                    Most Valuable Player            73.698264\n",
      "7  WNBA All Decade Team Honorable Mention            66.666667\n",
      "8                Kim Perrot Sportsmanship            80.000000\n",
      "9                       Coach of the Year            75.000000\n"
     ]
    },
    {
     "data": {
      "text/plain": [
       "<Figure size 864x432 with 1 Axes>"
      ],
      "image/png": "[encoded data removed]"
     },
     "metadata": {},
     "output_type": "display_data"
    }
   ],
   "execution_count": 21
  },
  {
   "metadata": {
    "ExecuteTime": {
     "end_time": "2024-10-29T09:49:55.727243Z",
     "start_time": "2024-10-29T09:49:55.725510Z"
    }
   },
   "cell_type": "code",
   "source": "",
   "id": "b3f208144ec26962",
   "outputs": [],
   "execution_count": null
  }
 ],
 "metadata": {
  "kernelspec": {
   "display_name": "Python 3 (ipykernel)",
   "language": "python",
   "name": "python3"
  },
  "language_info": {
   "codemirror_mode": {
    "name": "ipython",
    "version": 3
   },
   "file_extension": ".py",
   "mimetype": "text/x-python",
   "name": "python",
   "nbconvert_exporter": "python",
   "pygments_lexer": "ipython3",
   "version": "3.10.5"
  }
 },
 "nbformat": 4,
 "nbformat_minor": 5
}
