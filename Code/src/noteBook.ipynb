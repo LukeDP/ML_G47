{
 "cells": [
  {
   "metadata": {
    "ExecuteTime": {
     "end_time": "2024-10-14T20:49:54.241901Z",
     "start_time": "2024-10-14T20:49:54.236706Z"
    }
   },
   "cell_type": "code",
   "source": [
    "import pandas as pd\n",
    "import matplotlib.pyplot as plt\n",
    "import seaborn as sns"
   ],
   "id": "b3feb3c8246e251",
   "outputs": [],
   "execution_count": 52
  },
  {
   "metadata": {},
   "cell_type": "markdown",
   "source": "# Data Analysis",
   "id": "82bc96242f0122d2"
  },
  {
   "metadata": {},
   "cell_type": "markdown",
   "source": "### Awards Player",
   "id": "62954b019ada55bb"
  },
  {
   "metadata": {
    "ExecuteTime": {
     "end_time": "2024-10-14T20:49:54.265089Z",
     "start_time": "2024-10-14T20:49:54.252311Z"
    }
   },
   "cell_type": "code",
   "source": [
    "awards_players_dataSet = pd.read_csv('../Other/basketballPlayoffs/awards_players.csv')\n",
    "#print(awards_players_dataSet.info())\n",
    "columns_to_remove = ['lgID']\n",
    "awards_players_new = awards_players_dataSet.drop(columns=columns_to_remove)\n",
    "\n",
    "awards_players_new = awards_players_new[(awards_players_new['award'] != 'Kim Perrot Sportsmanship Award') & (awards_players_new['award'] != 'Sixth Woman of the Year') ]\n",
    "\n",
    "awards_players_new.to_csv('newDataset/awards_players_cleaned.csv', index=False)"
   ],
   "id": "d862a4b268f5441",
   "outputs": [],
   "execution_count": 53
  },
  {
   "metadata": {},
   "cell_type": "markdown",
   "source": "### Coaches",
   "id": "dce811fc5da6f6d4"
  },
  {
   "metadata": {
    "ExecuteTime": {
     "end_time": "2024-10-14T20:49:54.340230Z",
     "start_time": "2024-10-14T20:49:54.333518Z"
    }
   },
   "cell_type": "code",
   "source": [
    "coaches_dataSet = pd.read_csv('../Other/basketballPlayoffs/coaches.csv')\n",
    "#print(coaches_dataSet.info())\n",
    "\n",
    "#Check if stint could be removed\n",
    "columns_to_remove = ['lgID', 'stint']\n",
    "coaches_new = coaches_dataSet.drop(columns=columns_to_remove)\n",
    "\n",
    "coaches_new.to_csv('newDataset/coaches_cleaned.csv', index=False)"
   ],
   "id": "17fa4c2759ddc25a",
   "outputs": [],
   "execution_count": 54
  },
  {
   "metadata": {},
   "cell_type": "markdown",
   "source": "### Players",
   "id": "261ab0e6d6e7dacd"
  },
  {
   "metadata": {
    "ExecuteTime": {
     "end_time": "2024-10-14T20:49:54.403917Z",
     "start_time": "2024-10-14T20:49:54.394594Z"
    }
   },
   "cell_type": "code",
   "source": [
    "players_dataSet = pd.read_csv('../Other/basketballPlayoffs/players.csv')\n",
    "#print(players_dataSet.info())\n",
    "\n",
    "#Maybe everything is usless\n",
    "columns_to_remove = ['firstseason', 'lastseason', 'height', 'weight', 'college', 'collegeOther', 'deathDate']\n",
    "players_dataSet_new = players_dataSet.drop(columns=columns_to_remove)\n",
    "\n",
    "players_dataSet.to_csv('newDataset/players_cleaned.csv', index=False)"
   ],
   "id": "489e65c33159bff9",
   "outputs": [],
   "execution_count": 55
  },
  {
   "metadata": {},
   "cell_type": "markdown",
   "source": "### Players Teams",
   "id": "da61e031225d17f2"
  },
  {
   "metadata": {
    "ExecuteTime": {
     "end_time": "2024-10-14T20:49:54.476298Z",
     "start_time": "2024-10-14T20:49:54.457802Z"
    }
   },
   "cell_type": "code",
   "source": [
    "players_teams_dataSet = pd.read_csv('../Other/basketballPlayoffs/players_teams.csv')\n",
    "#print(players_teams_dataSet.info())\n",
    "\n",
    "#Check if something else could be removed\n",
    "columns_to_remove = ['lgID', 'turnovers']\n",
    "players_teams_new = players_teams_dataSet.drop(columns=columns_to_remove)\n",
    "\n",
    "players_teams_new.to_csv('newDataset/players_teams_cleaned.csv', index=False)"
   ],
   "id": "c103abf2a9aab49a",
   "outputs": [],
   "execution_count": 56
  },
  {
   "metadata": {},
   "cell_type": "markdown",
   "source": "### Series Post",
   "id": "20c201729c5ee6ac"
  },
  {
   "metadata": {
    "ExecuteTime": {
     "end_time": "2024-10-14T20:49:54.535629Z",
     "start_time": "2024-10-14T20:49:54.529682Z"
    }
   },
   "cell_type": "code",
   "source": [
    "series_post_dataSet = pd.read_csv('../Other/basketballPlayoffs/series_post.csv')\n",
    "#print(series_post_dataSet.info())\n",
    "\n",
    "#Check if something else could be removed\n",
    "columns_to_remove = ['lgIDWinner', 'lgIDLoser']\n",
    "series_post_new = series_post_dataSet.drop(columns=columns_to_remove)\n",
    "\n",
    "series_post_new.to_csv('newDataset/series_post_cleaned.csv', index=False)"
   ],
   "id": "8a06732fadb783a5",
   "outputs": [],
   "execution_count": 57
  },
  {
   "metadata": {},
   "cell_type": "markdown",
   "source": "### Teams",
   "id": "80e829fbe73a6bf9"
  },
  {
   "metadata": {
    "ExecuteTime": {
     "end_time": "2024-10-14T20:49:54.603238Z",
     "start_time": "2024-10-14T20:49:54.592474Z"
    }
   },
   "cell_type": "code",
   "source": [
    "teams_dataSet = pd.read_csv('../Other/basketballPlayoffs/teams.csv')\n",
    "#print(teams_dataSet.info()) \n",
    "columns_to_remove = ['lgID','divID', 'seeded', 'tmORB', 'tmDRB', 'tmTRB', 'opptmORB', 'opptmDRB', 'opptmTRB', 'GP', 'min', 'attend', 'arena'] \n",
    "teams_new = teams_dataSet.drop(columns=columns_to_remove)\n",
    "teams_new.to_csv('newDataset/teams_cleaned.csv', index=False)"
   ],
   "id": "c6b69ebafb17a8c2",
   "outputs": [],
   "execution_count": 58
  },
  {
   "metadata": {},
   "cell_type": "markdown",
   "source": "### Teams Posts",
   "id": "5020b554cf4a7087"
  },
  {
   "metadata": {
    "ExecuteTime": {
     "end_time": "2024-10-14T20:49:54.662591Z",
     "start_time": "2024-10-14T20:49:54.657157Z"
    }
   },
   "cell_type": "code",
   "source": [
    "# Nothing to do for now\n",
    "teams_post_dataSet = pd.read_csv('../Other/basketballPlayoffs/teams_post.csv')\n",
    "columns_to_remove = [] \n",
    "teams_post_new = teams_post_dataSet.drop(columns=columns_to_remove)\n",
    "teams_post_new.to_csv('newDataset/teams_post.csv', index=False)"
   ],
   "id": "2085b2e91aad0336",
   "outputs": [],
   "execution_count": 59
  }
 ],
 "metadata": {
  "kernelspec": {
   "display_name": "Python 3 (ipykernel)",
   "language": "python",
   "name": "python3"
  },
  "language_info": {
   "codemirror_mode": {
    "name": "ipython",
    "version": 3
   },
   "file_extension": ".py",
   "mimetype": "text/x-python",
   "name": "python",
   "nbconvert_exporter": "python",
   "pygments_lexer": "ipython3",
   "version": "3.10.5"
  }
 },
 "nbformat": 4,
 "nbformat_minor": 5
}
