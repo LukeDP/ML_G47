{
 "cells": [
  {
   "cell_type": "code",
   "id": "initial_id",
   "metadata": {
    "collapsed": true,
    "ExecuteTime": {
     "end_time": "2024-11-13T15:39:15.604617Z",
     "start_time": "2024-11-13T15:39:15.506306Z"
    }
   },
   "source": [
    "import pandas as pd\n",
    "from sklearn.decomposition import PCA\n",
    "from sklearn.linear_model import LogisticRegression\n",
    "from sklearn.model_selection import train_test_split\n",
    "from sklearn.metrics import accuracy_score, classification_report\n",
    "import matplotlib.pyplot as plt\n",
    "\n",
    "# Carica il dataset\n",
    "df = pd.read_csv('../newData/transformed_data.csv')\n",
    "\n",
    "df = df[df['year'] < 11]\n",
    "\n",
    "# Definisci le colonne target e predittive (key_cols dovrebbe contenere le colonne rilevanti per il modello)\n",
    "key_cols = [\"confID\", \"year\", \"TPI_Sum\", \"winrate\", \"roundsPlayed\"]\n",
    "target = \"playoff\"\n",
    "\n",
    "# X e y per l'addestramento\n",
    "X = df[key_cols]\n",
    "y = df[target]\n",
    "\n",
    "# Determina il numero minimo di componenti per spiegare il 90% della varianza\n",
    "pca_temp = PCA().fit(X)\n",
    "explained_variance = pca_temp.explained_variance_ratio_.cumsum()\n",
    "n_components = next(i for i, total_var in enumerate(explained_variance) if total_var >= 0.90) + 1\n",
    "\n",
    "# Visualizza la varianza spiegata cumulativa\n",
    "plt.plot(range(1, len(explained_variance) + 1), explained_variance, marker='o')\n",
    "plt.xlabel('Numero di componenti')\n",
    "plt.ylabel('Varianza spiegata cumulativa')\n",
    "plt.title('PCA: Varianza spiegata cumulativa')\n",
    "plt.show()\n",
    "\n",
    "print(f\"Numero di componenti per spiegare il 90% della varianza: {n_components}\")\n",
    "\n",
    "# Suddividi i dati in train e validation set\n",
    "X_train, X_val, y_train, y_val = train_test_split(X, y, test_size=0.2, random_state=42)\n",
    "\n",
    "# Riduci le dimensioni con PCA usando il numero ottimale di componenti\n",
    "pca = PCA(n_components=n_components)\n",
    "X_train_pca = pca.fit_transform(X_train)\n",
    "X_val_pca = pca.transform(X_val)\n",
    "\n",
    "# Inizializza e addestra il modello di regressione logistica\n",
    "model = LogisticRegression(random_state=42)\n",
    "model.fit(X_train_pca, y_train)\n",
    "\n",
    "# Predici sul set di validazione\n",
    "y_val_pred = model.predict(X_val_pca)\n",
    "\n",
    "# Calcola e stampa l'accuratezza\n",
    "accuracy = accuracy_score(y_val, y_val_pred)\n",
    "print(f\"Accuracy: {accuracy:.2f}\")\n",
    "\n",
    "# Visualizza il report di classificazione\n",
    "print(\"\\nClassification Report:\")\n",
    "print(classification_report(y_val, y_val_pred))\n"
   ],
   "outputs": [
    {
     "data": {
      "text/plain": [
       "<Figure size 432x288 with 1 Axes>"
      ],
      "image/png": "[encoded data removed]"
     },
     "metadata": {
      "needs_background": "light"
     },
     "output_type": "display_data"
    },
    {
     "name": "stdout",
     "output_type": "stream",
     "text": [
      "Numero di componenti per spiegare il 90% della varianza: 1\n",
      "Accuracy: 0.93\n",
      "\n",
      "Classification Report:\n",
      "              precision    recall  f1-score   support\n",
      "\n",
      "         0.0       0.88      1.00      0.93        14\n",
      "         1.0       1.00      0.87      0.93        15\n",
      "\n",
      "    accuracy                           0.93        29\n",
      "   macro avg       0.94      0.93      0.93        29\n",
      "weighted avg       0.94      0.93      0.93        29\n",
      "\n"
     ]
    }
   ],
   "execution_count": 7
  },
  {
   "metadata": {
    "ExecuteTime": {
     "end_time": "2024-11-13T15:40:07.888989Z",
     "start_time": "2024-11-13T15:40:07.876520Z"
    }
   },
   "cell_type": "code",
   "source": [
    "import pandas as pd\n",
    "\n",
    "df = pd.read_csv('../newData/transformed_data.csv')\n",
    "\n",
    "# Carica il dataset e filtra per l'anno 11\n",
    "df_year_11 = df[df['year'] == 11].copy()\n",
    "\n",
    "# Riempie eventuali NaN direttamente nel DataFrame\n",
    "X_year_11 = df_year_11[key_cols].fillna(df[key_cols].mean())\n",
    "\n",
    "# Riduci le dimensioni con PCA\n",
    "X_year_11_pca = pca.transform(X_year_11)\n",
    "\n",
    "# Prevedi il valore di 'playoff' per le squadre nell'anno 11\n",
    "df_year_11['playoff_pred'] = model.predict(X_year_11_pca)\n",
    "\n",
    "# Dividi le squadre per conference e seleziona quelle previste per i playoff\n",
    "east_teams = df_year_11[(df_year_11['confID'] == 0) & (df_year_11['playoff_pred'] == 1)]\n",
    "west_teams = df_year_11[(df_year_11['confID'] == 1) & (df_year_11['playoff_pred'] == 1)]\n",
    "\n",
    "# Assicura che ci siano esattamente 4 squadre per ogni conference selezionando le prime 4\n",
    "east_qualifiers = east_teams.nlargest(4, 'TPI_Sum')\n",
    "west_qualifiers = west_teams.nlargest(4, 'TPI_Sum')\n",
    "\n",
    "# Combina le squadre qualificate e aggiungi quelle non qualificate con playoff_pred=0\n",
    "qualified_teams = pd.concat([east_qualifiers, west_qualifiers])\n",
    "df_year_11['playoff_pred'] = df_year_11.apply(\n",
    "    lambda row: 1 if row['tmID'] in qualified_teams['tmID'].values else 0, axis=1\n",
    ")\n",
    "\n",
    "# Salva il dataset con tutte le squadre e le previsioni playoff\n",
    "df_year_11[['tmID', 'confID', 'playoff_pred']].to_csv('../newData/playoff_predictions.csv', index=False)\n",
    "\n",
    "# Visualizza un'anteprima del file creato\n",
    "print(df_year_11[['tmID', 'confID', 'playoff_pred']].head(10))\n"
   ],
   "id": "f577462aae85c888",
   "outputs": [
    {
     "name": "stdout",
     "output_type": "stream",
     "text": [
      "    tmID  confID  playoff_pred\n",
      "142  CHA       0             1\n",
      "143  CLE       0             1\n",
      "144  CON       0             1\n",
      "145  DET       0             1\n",
      "146  HOU       1             1\n",
      "147  IND       0             0\n",
      "148  LAS       1             1\n",
      "149  MIA       0             0\n",
      "150  MIN       1             1\n",
      "151  NYL       0             0\n"
     ]
    }
   ],
   "execution_count": 9
  },
  {
   "metadata": {},
   "cell_type": "code",
   "outputs": [],
   "execution_count": null,
   "source": [
    "# TODO list per la avalicao\n",
    "# commentare correttamente tutto il codice\n",
    "# provare a considerare in maniera diversa i premi di ogni player all'interno del team - per influenzare eventuali future vittorie\n",
    "# provare più metodi di classification !!!\n",
    "# aggiustare win rate\n",
    "# iniziare bozza presentazione\n",
    "# scegliere main topics presentazione\n",
    "# mettere nella presentazione la cosa delle scommesse\n",
    "# tante belle cose"
   ],
   "id": "8de2920358644870"
  }
 ],
 "metadata": {
  "kernelspec": {
   "display_name": "Python 3",
   "language": "python",
   "name": "python3"
  },
  "language_info": {
   "codemirror_mode": {
    "name": "ipython",
    "version": 2
   },
   "file_extension": ".py",
   "mimetype": "text/x-python",
   "name": "python",
   "nbconvert_exporter": "python",
   "pygments_lexer": "ipython2",
   "version": "2.7.6"
  }
 },
 "nbformat": 4,
 "nbformat_minor": 5
}
